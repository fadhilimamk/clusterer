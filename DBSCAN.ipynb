{
 "cells": [
  {
   "cell_type": "markdown",
   "metadata": {},
   "source": [
    "# Code"
   ]
  },
  {
   "cell_type": "code",
   "execution_count": 110,
   "metadata": {},
   "outputs": [],
   "source": [
    "import pandas as pd\n",
    "from numpy import *\n",
    "from math import sqrt"
   ]
  },
  {
   "cell_type": "code",
   "execution_count": 132,
   "metadata": {},
   "outputs": [],
   "source": [
    "def hitung_jarak(data1, data2):\n",
    "    selisih1 = data1['SepalLengthCm'] - data2['SepalLengthCm']\n",
    "    selisih2 = data1['SepalWidthCm'] - data2['SepalWidthCm']\n",
    "    selisih3 = data1['PetalLengthCm'] - data2['PetalLengthCm']\n",
    "    selisih4 = data1['PetalWidthCm'] - data2['PetalWidthCm']\n",
    "    total = selisih1*selisih1 + selisih2*selisih2 + selisih3*selisih3 + selisih4*selisih4;\n",
    "    return sqrt(total)"
   ]
  },
  {
   "cell_type": "code",
   "execution_count": 143,
   "metadata": {},
   "outputs": [],
   "source": [
    "def get_distance_matrix(data):\n",
    "    for i in range(len(data_iris_temp)):\n",
    "        for j in range(len(data_iris_temp)):\n",
    "            dist_table[i][j] = hitung_jarak(data_iris_temp.loc[i], data_iris_temp.loc[j])"
   ]
  },
  {
   "cell_type": "code",
   "execution_count": 174,
   "metadata": {},
   "outputs": [
    {
     "name": "stdout",
     "output_type": "stream",
     "text": [
      "   SepalLengthCm  SepalWidthCm  PetalLengthCm  PetalWidthCm\n",
      "0            5.1           3.5            1.4           0.2\n",
      "1            4.9           3.0            1.4           0.2\n",
      "2            4.7           3.2            1.3           0.2\n",
      "3            4.6           3.1            1.5           0.2\n",
      "4            5.0           3.6            1.4           0.2\n",
      "0    5.1\n",
      "Name: SepalLengthCm, dtype: float64\n"
     ]
    }
   ],
   "source": [
    "data_iris = pd.read_csv('Iris.csv')\n",
    "\n",
    "data_iris_temp = data_iris.drop([\"Species\", \"Id\"], axis = 1)\n",
    "\n",
    "dist_table = [[]]\n",
    "for i in range(150):\n",
    "    for j in range(150):\n",
    "        dist_table[i].append(1.0*i*j)\n",
    "    dist_table.append([])\n",
    "get_distance_matrix(data_iris_temp)\n",
    "# dist_table = np.float(range(150*150))\n",
    "# dist_table = reshape(dist_table, (150,150))\n",
    "print(data_iris_temp.head())\n",
    "print(data_iris_temp.loc[[0]]['SepalLengthCm'])"
   ]
  },
  {
   "cell_type": "code",
   "execution_count": 170,
   "metadata": {},
   "outputs": [],
   "source": [
    "def get_cluster(index, eps):\n",
    "    neighbour_list = []\n",
    "    for i in range(len(dist_table[index])):\n",
    "        if(dist_table[index][i] <= eps):\n",
    "            neighbour_list.append(i)\n",
    "    return neighbour_list"
   ]
  },
  {
   "cell_type": "code",
   "execution_count": 171,
   "metadata": {},
   "outputs": [],
   "source": [
    "def dbscan_fit_predict(data, eps, minPts):\n",
    "    for i in range(len(dist_table)):\n",
    "        neighbour_list = get_cluster(i, eps)\n",
    "        print(i, neighbour_list)"
   ]
  },
  {
   "cell_type": "code",
   "execution_count": 172,
   "metadata": {},
   "outputs": [
    {
     "name": "stdout",
     "output_type": "stream",
     "text": [
      "0 [0, 4, 7, 17, 27, 28, 39, 40]\n",
      "1 [1, 9, 12, 34, 37, 45]\n",
      "2 [2, 47]\n",
      "3 [3, 29, 47]\n",
      "4 [0, 4, 17, 40]\n",
      "5 [5]\n",
      "6 [6]\n",
      "7 [0, 7, 17, 39, 49]\n",
      "8 [8, 38]\n",
      "9 [1, 9, 12, 25, 30, 34, 37]\n",
      "10 [10, 48]\n",
      "11 [11]\n",
      "12 [1, 9, 12, 34, 37, 45]\n",
      "13 [13]\n",
      "14 [14]\n",
      "15 [15]\n",
      "16 [16]\n",
      "17 [0, 4, 7, 17, 27, 28, 39, 40]\n",
      "18 [18]\n",
      "19 [19, 21, 46]\n",
      "20 [20]\n",
      "21 [19, 21]\n",
      "22 [22]\n",
      "23 [23, 26]\n",
      "24 [24]\n",
      "25 [9, 25, 34, 37]\n",
      "26 [23, 26]\n",
      "27 [0, 17, 27, 28, 39]\n",
      "28 [0, 17, 27, 28, 39]\n",
      "29 [3, 29, 30]\n",
      "30 [9, 29, 30, 34, 37]\n",
      "31 [31]\n",
      "32 [32]\n",
      "33 [33]\n",
      "34 [1, 9, 12, 25, 30, 34, 37]\n",
      "35 [35]\n",
      "36 [36]\n",
      "37 [1, 9, 12, 25, 30, 34, 37]\n",
      "38 [8, 38]\n",
      "39 [0, 7, 17, 27, 28, 39, 49]\n",
      "40 [0, 4, 17, 40]\n",
      "41 [41]\n",
      "42 [42]\n",
      "43 [43]\n",
      "44 [44]\n",
      "45 [1, 12, 45]\n",
      "46 [19, 46]\n",
      "47 [2, 3, 47]\n",
      "48 [10, 48]\n",
      "49 [7, 39, 49]\n",
      "50 [50]\n",
      "51 [51]\n",
      "52 [52]\n",
      "53 [53]\n",
      "54 [54]\n",
      "55 [55]\n",
      "56 [56]\n",
      "57 [57, 93]\n",
      "58 [58]\n",
      "59 [59]\n",
      "60 [60]\n",
      "61 [61]\n",
      "62 [62]\n",
      "63 [63, 91]\n",
      "64 [64]\n",
      "65 [65, 75]\n",
      "66 [66, 84]\n",
      "67 [67]\n",
      "68 [68]\n",
      "69 [69, 80]\n",
      "70 [70]\n",
      "71 [71]\n",
      "72 [72]\n",
      "73 [73]\n",
      "74 [74]\n",
      "75 [65, 75]\n",
      "76 [76]\n",
      "77 [77]\n",
      "78 [78, 91]\n",
      "79 [79]\n",
      "80 [69, 80, 81]\n",
      "81 [80, 81]\n",
      "82 [82, 92]\n",
      "83 [83]\n",
      "84 [66, 84]\n",
      "85 [85]\n",
      "86 [86]\n",
      "87 [87]\n",
      "88 [88, 95, 96]\n",
      "89 [89]\n",
      "90 [90]\n",
      "91 [63, 78, 91]\n",
      "92 [82, 92]\n",
      "93 [57, 93]\n",
      "94 [94, 99]\n",
      "95 [88, 95, 96]\n",
      "96 [88, 95, 96, 99]\n",
      "97 [97]\n",
      "98 [98]\n",
      "99 [94, 96, 99]\n",
      "100 [100]\n",
      "101 [101, 142]\n",
      "102 [102]\n",
      "103 [103]\n",
      "104 [104]\n",
      "105 [105]\n",
      "106 [106]\n",
      "107 [107]\n",
      "108 [108]\n",
      "109 [109]\n",
      "110 [110]\n",
      "111 [111]\n",
      "112 [112, 139]\n",
      "113 [113]\n",
      "114 [114]\n",
      "115 [115]\n",
      "116 [116, 137]\n",
      "117 [117]\n",
      "118 [118]\n",
      "119 [119]\n",
      "120 [120]\n",
      "121 [121]\n",
      "122 [122]\n",
      "123 [123, 126]\n",
      "124 [124]\n",
      "125 [125]\n",
      "126 [123, 126]\n",
      "127 [127, 138]\n",
      "128 [128, 132]\n",
      "129 [129]\n",
      "130 [130]\n",
      "131 [131]\n",
      "132 [128, 132]\n",
      "133 [133]\n",
      "134 [134]\n",
      "135 [135]\n",
      "136 [136]\n",
      "137 [116, 137]\n",
      "138 [127, 138]\n",
      "139 [112, 139]\n",
      "140 [140]\n",
      "141 [141]\n",
      "142 [101, 142]\n",
      "143 [143]\n",
      "144 [144]\n",
      "145 [145]\n",
      "146 [146]\n",
      "147 [147]\n",
      "148 [148]\n",
      "149 [149]\n",
      "150 []\n"
     ]
    }
   ],
   "source": [
    "dbscan_iris = dbscan_fit_predict(data_iris_temp, 0.2, 2)"
   ]
  },
  {
   "cell_type": "markdown",
   "metadata": {},
   "source": [
    "# Contoh pemakaian"
   ]
  },
  {
   "cell_type": "code",
   "execution_count": 7,
   "metadata": {},
   "outputs": [],
   "source": []
  },
  {
   "cell_type": "code",
   "execution_count": null,
   "metadata": {},
   "outputs": [],
   "source": []
  }
 ],
 "metadata": {
  "kernelspec": {
   "display_name": "Python 3",
   "language": "python",
   "name": "python3"
  },
  "language_info": {
   "codemirror_mode": {
    "name": "ipython",
    "version": 3
   },
   "file_extension": ".py",
   "mimetype": "text/x-python",
   "name": "python",
   "nbconvert_exporter": "python",
   "pygments_lexer": "ipython3",
   "version": "3.6.4"
  }
 },
 "nbformat": 4,
 "nbformat_minor": 2
}
