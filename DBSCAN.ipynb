{
 "cells": [
  {
   "cell_type": "markdown",
   "metadata": {},
   "source": [
    "# Code"
   ]
  },
  {
   "cell_type": "code",
   "execution_count": 43,
   "metadata": {},
   "outputs": [],
   "source": [
    "import pandas as pd\n",
    "from numpy import *\n",
    "from math import sqrt\n",
    "from sklearn.preprocessing import LabelEncoder\n",
    "from sklearn.metrics import confusion_matrix"
   ]
  },
  {
   "cell_type": "code",
   "execution_count": 2,
   "metadata": {},
   "outputs": [],
   "source": [
    "def hitung_jarak(data1, data2):\n",
    "    selisih1 = data1['SepalLengthCm'] - data2['SepalLengthCm']\n",
    "    selisih2 = data1['SepalWidthCm'] - data2['SepalWidthCm']\n",
    "    selisih3 = data1['PetalLengthCm'] - data2['PetalLengthCm']\n",
    "    selisih4 = data1['PetalWidthCm'] - data2['PetalWidthCm']\n",
    "#     total = 0\n",
    "#     for i in(0, self.__n_attr):\n",
    "#         total += pow(data1[i] - data2[i], 2)\n",
    "    total = selisih1*selisih1 + selisih2*selisih2 + selisih3*selisih3 + selisih4*selisih4;\n",
    "    return sqrt(total)"
   ]
  },
  {
   "cell_type": "code",
   "execution_count": 3,
   "metadata": {},
   "outputs": [],
   "source": [
    "def get_distance_matrix(data):\n",
    "    for i in range(len(data_iris_temp)):\n",
    "        for j in range(len(data_iris_temp)):\n",
    "            dist_table[i][j] = hitung_jarak(data_iris_temp.loc[i], data_iris_temp.loc[j])"
   ]
  },
  {
   "cell_type": "code",
   "execution_count": 44,
   "metadata": {},
   "outputs": [
    {
     "name": "stdout",
     "output_type": "stream",
     "text": [
      "2.5268107508366784\n"
     ]
    }
   ],
   "source": [
    "data_iris = pd.read_csv('Iris.csv')\n",
    "\n",
    "data_iris_temp = data_iris.drop([\"Species\", \"Id\"], axis = 1)\n",
    "\n",
    "iris_label = data_iris.values[:,-1]\n",
    "species_encoder = LabelEncoder().fit(iris_label)\n",
    "\n",
    "iris_label = species_encoder.transform(iris_label)\n",
    "\n",
    "dist_table = [[]]\n",
    "for i in range(150):\n",
    "    for j in range(150):\n",
    "        dist_table[i].append(1.0)\n",
    "    dist_table.append([])\n",
    "get_distance_matrix(data_iris_temp)\n",
    "jumlah = 0\n",
    "cnt = 0\n",
    "for i in range(len(dist_table)):\n",
    "    for j in range(len(dist_table[i])):\n",
    "        jumlah += dist_table[i][j]\n",
    "        cnt += 1\n",
    "print(jumlah / cnt)\n",
    "cluster = []\n",
    "for i in range(150):\n",
    "    cluster.append(-1)"
   ]
  },
  {
   "cell_type": "code",
   "execution_count": 32,
   "metadata": {},
   "outputs": [],
   "source": [
    "def get_cluster(index, eps):\n",
    "    neighbour_list = []\n",
    "    for i in range(len(dist_table[index])):\n",
    "        if(dist_table[index][i] <= eps):\n",
    "            neighbour_list.append(i)\n",
    "    return neighbour_list"
   ]
  },
  {
   "cell_type": "code",
   "execution_count": 69,
   "metadata": {},
   "outputs": [],
   "source": [
    "def dbscan_fit_predict(data, eps, minPts):\n",
    "    cluster_index = 0\n",
    "    #reset cluster value\n",
    "    for i in range(150):\n",
    "        cluster[i] = -1 \n",
    "    for i in range(len(dist_table)):\n",
    "        neighbour_list = get_cluster(i, eps)\n",
    "        if(len(neighbour_list) >= minPts):\n",
    "            if(cluster[i] == -1):\n",
    "                \n",
    "                for j in neighbour_list:\n",
    "                    cluster[j] = cluster_index\n",
    "                cluster_index += 1"
   ]
  },
  {
   "cell_type": "markdown",
   "metadata": {},
   "source": [
    "# Contoh pemakaian"
   ]
  },
  {
   "cell_type": "code",
   "execution_count": 70,
   "metadata": {},
   "outputs": [
    {
     "name": "stdout",
     "output_type": "stream",
     "text": [
      "[0, 2, 0, 2, 0, 0, 0, 2, 2, 2, 0, 2, 2, 0, 0, 0, 0, 0, 0, 0, 2, 0, 0, 2, 2, 2, 2, 0, 0, 2, 2, 2, 0, 0, 2, 0, 0, 2, 0, 2, 0, 2, 0, 2, 2, 2, 0, 2, 0, 2, 1, 2, 1, 2, 2, 2, 2, 2, 2, 2, 2, 2, 2, 2, 2, 2, 2, 2, 2, 2, 2, 2, 2, 2, 2, 2, 2, 2, 2, 2, 2, 2, 2, 2, 2, 2, 2, 2, 2, 2, 2, 2, 2, 2, 2, 2, 2, 2, 2, 2, 1, 2, 1, 1, 1, 1, 2, 1, 1, 1, 1, 2, 1, 2, 2, 1, 1, 1, 1, 2, 1, 2, 1, 2, 1, 1, 2, 2, 1, 1, 1, 1, 1, 2, 2, 1, 1, 1, 2, 1, 1, 1, 2, 1, 1, 1, 2, 1, 1, 2]\n",
      "[[26  0  0]\n",
      " [ 0  2 34]\n",
      " [24 48 16]]\n"
     ]
    },
    {
     "data": {
      "text/plain": [
       "0.72"
      ]
     },
     "execution_count": 70,
     "metadata": {},
     "output_type": "execute_result"
    }
   ],
   "source": [
    "dbscan_iris = dbscan_fit_predict(data_iris_temp, 2.6, 5)\n",
    "print(cluster)\n",
    "array_cluster = [i for i in range(150)]\n",
    "for i in range(len(cluster)):\n",
    "    if(cluster[i] != -1):\n",
    "        array_cluster[i] = cluster[i]\n",
    "\n",
    "mat = confusion_matrix(array_cluster, iris_label)\n",
    "print(mat)\n",
    "purity = float(mat[0].max() + mat[1].max() + mat[2].max()) / float(mat.sum())\n",
    "purity"
   ]
  },
  {
   "cell_type": "code",
   "execution_count": null,
   "metadata": {},
   "outputs": [],
   "source": []
  },
  {
   "cell_type": "code",
   "execution_count": null,
   "metadata": {},
   "outputs": [],
   "source": []
  }
 ],
 "metadata": {
  "kernelspec": {
   "display_name": "Python 3",
   "language": "python",
   "name": "python3"
  },
  "language_info": {
   "codemirror_mode": {
    "name": "ipython",
    "version": 3
   },
   "file_extension": ".py",
   "mimetype": "text/x-python",
   "name": "python",
   "nbconvert_exporter": "python",
   "pygments_lexer": "ipython3",
   "version": "3.6.4"
  }
 },
 "nbformat": 4,
 "nbformat_minor": 2
}
