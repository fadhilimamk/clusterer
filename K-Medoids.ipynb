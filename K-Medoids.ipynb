{
 "cells": [
  {
   "cell_type": "markdown",
   "metadata": {},
   "source": [
    "# Code"
   ]
  },
  {
   "cell_type": "code",
   "execution_count": 33,
   "metadata": {},
   "outputs": [],
   "source": [
    "import pandas as pd\n",
    "from random import randint\n",
    "from sklearn.preprocessing import LabelEncoder\n",
    "from sklearn.metrics import confusion_matrix"
   ]
  },
  {
   "cell_type": "code",
   "execution_count": 2,
   "metadata": {},
   "outputs": [],
   "source": [
    "def hitung_jarak(data1, data2):\n",
    "    selisih1 = abs(data1['SepalLengthCm'] - data2['SepalLengthCm'])\n",
    "    selisih2 = abs(data1['SepalWidthCm'] - data2['SepalWidthCm'])\n",
    "    selisih3 = abs(data1['PetalLengthCm'] - data2['PetalLengthCm'])\n",
    "    selisih4 = abs(data1['PetalWidthCm'] - data2['PetalWidthCm'])\n",
    "    total = selisih1 + selisih2 + selisih3 + selisih4;\n",
    "    return total"
   ]
  },
  {
   "cell_type": "code",
   "execution_count": 3,
   "metadata": {},
   "outputs": [],
   "source": [
    "def get_distance_matrix(data):\n",
    "    for i in range(len(data_iris_temp)):\n",
    "        for j in range(len(data_iris_temp)):\n",
    "            dist_table[i][j] = hitung_jarak(data_iris_temp.loc[i], data_iris_temp.loc[j])"
   ]
  },
  {
   "cell_type": "code",
   "execution_count": 48,
   "metadata": {},
   "outputs": [],
   "source": [
    "data_iris = pd.read_csv('Iris.csv')\n",
    "\n",
    "data_iris_temp = data_iris.drop([\"Species\", \"Id\"], axis = 1)\n",
    "iris_label = data_iris.values[:,-1]\n",
    "species_encoder = LabelEncoder().fit(iris_label)\n",
    "\n",
    "iris_label = species_encoder.transform(iris_label)\n",
    "\n",
    "dist_table = [[]]\n",
    "for i in range(150):\n",
    "    for j in range(150):\n",
    "        dist_table[i].append(1.0)\n",
    "    dist_table.append([])\n",
    "get_distance_matrix(data_iris_temp)\n"
   ]
  },
  {
   "cell_type": "code",
   "execution_count": 5,
   "metadata": {},
   "outputs": [],
   "source": [
    "def get_list_centroid(data_length, num_cluster):\n",
    "    list_centroid = []\n",
    "    while(len(list_centroid) < num_cluster):\n",
    "        bil = randint(0, data_length-1)\n",
    "        is_valid = True\n",
    "        for val in list_centroid:\n",
    "            if(val == bil):\n",
    "                is_valid = False\n",
    "                break\n",
    "        if(is_valid):\n",
    "            list_centroid.append(bil)\n",
    "            \n",
    "    return list_centroid"
   ]
  },
  {
   "cell_type": "code",
   "execution_count": 6,
   "metadata": {},
   "outputs": [],
   "source": [
    "def get_empty_cluster_list(num_cluster):\n",
    "    list_cluster = [[]]\n",
    "    for i in range(num_cluster):\n",
    "        list_cluster.append([])\n",
    "    return list_cluster"
   ]
  },
  {
   "cell_type": "code",
   "execution_count": 26,
   "metadata": {},
   "outputs": [],
   "source": [
    "def kmedoids_fit_predict(data, num_cluster):\n",
    "    list_centroid = get_list_centroid(len(data), num_cluster)\n",
    "    print(list_centroid)\n",
    "    \n",
    "    cost_after_change = -1\n",
    "    cost_before_change = 0\n",
    "    list_cluster = [[]]\n",
    "    while(cost_after_change < cost_before_change):\n",
    "        cost_before_change = 0\n",
    "        list_cluster = get_empty_cluster_list(num_cluster)\n",
    "        for i in range(len(data)):\n",
    "            jarak_min = 1000000000.0\n",
    "            idx_min = -1\n",
    "            for j in range(len(list_centroid)):\n",
    "                idx = list_centroid[j]\n",
    "                jarak = dist_table[i][idx]\n",
    "                if(jarak_min > jarak):\n",
    "                    jarak_min = jarak\n",
    "                    idx_min = j\n",
    "            list_cluster[idx_min].append(i)\n",
    "            cost_before_change += jarak_min\n",
    "        #choose o random\n",
    "        idx_random = list_centroid[0]\n",
    "        while(idx_random in list_centroid):\n",
    "            idx_random = randint(0, len(data) - 1)\n",
    "        print(idx_random)\n",
    "        lama = list_centroid[0]\n",
    "        list_centroid[0] = idx_random;\n",
    "        cost_after_change = 0\n",
    "        for i in range(len(data)):\n",
    "            jarak_min = 1000000000.0\n",
    "            idx_min = -1\n",
    "            for j in range(len(list_centroid)):\n",
    "                idx = list_centroid[j]\n",
    "                jarak = dist_table[i][idx]\n",
    "                if(jarak_min > jarak):\n",
    "                    jarak_min = jarak\n",
    "                    idx_min = j\n",
    "            cost_after_change += jarak_min\n",
    "        if(cost_after_change >= cost_before_change):\n",
    "            list_centroid[0] = idx_random\n",
    "    \n",
    "    return list_cluster"
   ]
  },
  {
   "cell_type": "code",
   "execution_count": 59,
   "metadata": {},
   "outputs": [
    {
     "name": "stdout",
     "output_type": "stream",
     "text": [
      "[137, 108, 93]\n",
      "11\n",
      "59\n",
      "[[0, 1, 2, 3, 4, 5, 6, 7, 8, 9, 10, 11, 12, 13, 14, 15, 16, 17, 18, 19, 20, 21, 22, 23, 24, 25, 26, 27, 28, 29, 30, 31, 32, 33, 34, 35, 36, 37, 38, 39, 40, 41, 42, 43, 44, 45, 46, 47, 48, 49], [50, 51, 52, 54, 56, 58, 63, 65, 68, 70, 72, 73, 74, 75, 76, 77, 78, 83, 85, 86, 87, 91, 97, 100, 101, 102, 103, 104, 105, 107, 108, 109, 110, 111, 112, 113, 114, 115, 116, 117, 118, 119, 120, 121, 122, 123, 124, 125, 126, 127, 128, 129, 130, 131, 132, 133, 134, 135, 136, 137, 138, 139, 140, 141, 142, 143, 144, 145, 146, 147, 148, 149], [53, 55, 57, 59, 60, 61, 62, 64, 66, 67, 69, 71, 79, 80, 81, 82, 84, 88, 89, 90, 92, 93, 94, 95, 96, 98, 99, 106], []]\n"
     ]
    }
   ],
   "source": [
    "hasil_cluster = kmedoids_fit_predict(data_iris_temp, 3)\n",
    "print(hasil_cluster)"
   ]
  },
  {
   "cell_type": "markdown",
   "metadata": {},
   "source": [
    "# Contoh pemakaian"
   ]
  },
  {
   "cell_type": "code",
   "execution_count": 60,
   "metadata": {},
   "outputs": [
    {
     "data": {
      "text/plain": [
       "0.84"
      ]
     },
     "execution_count": 60,
     "metadata": {},
     "output_type": "execute_result"
    }
   ],
   "source": [
    "array_cluster = [i for i in range(150)]\n",
    "\n",
    "for i in range(len(hasil_cluster)):\n",
    "    for j in range(len(hasil_cluster[i])):\n",
    "        bilangan = hasil_cluster[i][j]\n",
    "        array_cluster[bilangan] = i\n",
    "\n",
    "mat = confusion_matrix(array_cluster, iris_label)\n",
    "purity = float(mat[0].max() + mat[1].max() + mat[2].max()) / float(mat.sum())\n",
    "purity"
   ]
  }
 ],
 "metadata": {
  "kernelspec": {
   "display_name": "Python 3",
   "language": "python",
   "name": "python3"
  },
  "language_info": {
   "codemirror_mode": {
    "name": "ipython",
    "version": 3
   },
   "file_extension": ".py",
   "mimetype": "text/x-python",
   "name": "python",
   "nbconvert_exporter": "python",
   "pygments_lexer": "ipython3",
   "version": "3.6.4"
  }
 },
 "nbformat": 4,
 "nbformat_minor": 2
}
