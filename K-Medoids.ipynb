{
 "cells": [
  {
   "cell_type": "markdown",
   "metadata": {},
   "source": [
    "# Code"
   ]
  },
  {
   "cell_type": "code",
   "execution_count": 1,
   "metadata": {},
   "outputs": [],
   "source": [
    "import pandas as pd\n",
    "from random import randint"
   ]
  },
  {
   "cell_type": "code",
   "execution_count": 2,
   "metadata": {},
   "outputs": [],
   "source": [
    "def hitung_jarak(data1, data2):\n",
    "    selisih1 = data1['SepalLengthCm'] - data2['SepalLengthCm']\n",
    "    selisih2 = data1['SepalWidthCm'] - data2['SepalWidthCm']\n",
    "    selisih3 = data1['PetalLengthCm'] - data2['PetalLengthCm']\n",
    "    selisih4 = data1['PetalWidthCm'] - data2['PetalWidthCm']\n",
    "    total = selisih1 + selisih2 + selisih3 + selisih4;\n",
    "    return total"
   ]
  },
  {
   "cell_type": "code",
   "execution_count": 3,
   "metadata": {},
   "outputs": [],
   "source": [
    "def get_distance_matrix(data):\n",
    "    for i in range(len(data_iris_temp)):\n",
    "        for j in range(len(data_iris_temp)):\n",
    "            dist_table[i][j] = hitung_jarak(data_iris_temp.loc[i], data_iris_temp.loc[j])"
   ]
  },
  {
   "cell_type": "code",
   "execution_count": 4,
   "metadata": {},
   "outputs": [],
   "source": [
    "data_iris = pd.read_csv('Iris.csv')\n",
    "\n",
    "data_iris_temp = data_iris.drop([\"Species\", \"Id\"], axis = 1)\n",
    "\n",
    "dist_table = [[]]\n",
    "for i in range(150):\n",
    "    for j in range(150):\n",
    "        dist_table[i].append(1.0)\n",
    "    dist_table.append([])\n",
    "get_distance_matrix(data_iris_temp)"
   ]
  },
  {
   "cell_type": "code",
   "execution_count": 13,
   "metadata": {},
   "outputs": [],
   "source": [
    "def get_list_centroid(data_length, num_cluster):\n",
    "    list_centroid = []\n",
    "    while(len(list_centroid) < num_cluster):\n",
    "        bil = randint(0, data_length-1)\n",
    "        is_valid = True\n",
    "        for val in list_centroid:\n",
    "            if(val == bil):\n",
    "                is_valid = False\n",
    "                break\n",
    "        if(is_valid):\n",
    "            list_centroid.append(bil)\n",
    "            \n",
    "    return list_centroid"
   ]
  },
  {
   "cell_type": "code",
   "execution_count": 30,
   "metadata": {},
   "outputs": [],
   "source": [
    "def get_empty_cluster_list(num_cluster):\n",
    "    list_cluster = [[]]\n",
    "    for i in range(num_cluster):\n",
    "        list_cluster.append([])\n",
    "    return list_cluster"
   ]
  },
  {
   "cell_type": "code",
   "execution_count": 39,
   "metadata": {},
   "outputs": [],
   "source": [
    "def kmedoids_fit_predict(data, num_cluster):\n",
    "    list_centroid = get_list_centroid(len(data), num_cluster)\n",
    "    print(list_centroid)\n",
    "    \n",
    "    cost_after_change = -1\n",
    "    cost_before_change = 0\n",
    "    while(cost_after_change < cost_before_change):\n",
    "        cost_before_change = 0\n",
    "        list_cluster = get_empty_cluster_list(num_cluster)\n",
    "        for i in range(len(data)):\n",
    "            jarak_min = 1000000000.0\n",
    "            idx_min = -1\n",
    "            for j in range(len(list_centroid)):\n",
    "                idx = list_centroid[j]\n",
    "                jarak = dist_table[i][idx]\n",
    "                if(jarak_min > jarak):\n",
    "                    jarak_min = jarak\n",
    "                    idx_min = j\n",
    "            list_cluster[j].append(idx_min)\n",
    "            cost_before_change += jarak_min\n",
    "        #choose o random\n",
    "        idx_random = list_centroid[0]\n",
    "        while(idx_random in list_centroid):\n",
    "            idx_random = randint(0, len(data) - 1)\n",
    "        print(idx_random)\n",
    "        cost_after_change = cost_before_change + 1\n",
    "        cho\n",
    "        "
   ]
  },
  {
   "cell_type": "code",
   "execution_count": 40,
   "metadata": {},
   "outputs": [
    {
     "name": "stdout",
     "output_type": "stream",
     "text": [
      "[7, 80, 6]\n",
      "135\n"
     ]
    }
   ],
   "source": [
    "kmedoids_fit_predict(data_iris_temp, 3)"
   ]
  },
  {
   "cell_type": "markdown",
   "metadata": {},
   "source": [
    "# Contoh pemakaian"
   ]
  },
  {
   "cell_type": "code",
   "execution_count": null,
   "metadata": {},
   "outputs": [],
   "source": []
  }
 ],
 "metadata": {
  "kernelspec": {
   "display_name": "Python 3",
   "language": "python",
   "name": "python3"
  },
  "language_info": {
   "codemirror_mode": {
    "name": "ipython",
    "version": 3
   },
   "file_extension": ".py",
   "mimetype": "text/x-python",
   "name": "python",
   "nbconvert_exporter": "python",
   "pygments_lexer": "ipython3",
   "version": "3.6.4"
  }
 },
 "nbformat": 4,
 "nbformat_minor": 2
}
